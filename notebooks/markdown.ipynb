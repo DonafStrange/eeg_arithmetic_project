{
 "cells": [
  {
   "cell_type": "code",
   "execution_count": 1,
   "id": "849aa876",
   "metadata": {},
   "outputs": [
    {
     "name": "stdout",
     "output_type": "stream",
     "text": [
      "✅\n",
      "❌\n",
      "⚠\n",
      "📊\n",
      "📈\n",
      "📉\n",
      "🔍\n",
      "🧠\n",
      "🧪\n",
      "📝\n",
      "💾\n",
      "🕒\n",
      "🔁\n",
      "🚀\n",
      "👍\n",
      "👎\n",
      "🚫\n",
      "🟢\n",
      "🟡\n",
      "🔴\n",
      "❗\n",
      "❓\n",
      "🏁\n"
     ]
    }
   ],
   "source": [
    "print(\"\\u2705\")   # ✅ Check Mark Button\n",
    "print(\"\\u274C\")   # ❌ Cross Mark\n",
    "print(\"\\u26A0\")   # ⚠️ Warning\n",
    "print(\"\\U0001F4CA\")  # 📊 Bar Chart\n",
    "print(\"\\U0001F4C8\")  # 📈 Chart Increasing\n",
    "print(\"\\U0001F4C9\")  # 📉 Chart Decreasing\n",
    "print(\"\\U0001F50D\")  # 🔍 Magnifying Glass\n",
    "print(\"\\U0001F9E0\")  # 🧠 Brain\n",
    "print(\"\\U0001F9EA\")  # 🧪 Test Tube\n",
    "print(\"\\U0001F4DD\")  # 📝 Memo\n",
    "print(\"\\U0001F4BE\")  # 💾 Floppy Disk\n",
    "print(\"\\U0001F552\")  # 🕒 Clock Face Three O’Clock\n",
    "print(\"\\U0001F501\")  # 🔁 Repeat\n",
    "print(\"\\U0001F680\")  # 🚀 Rocket\n",
    "print(\"\\U0001F44D\")  # 👍 Thumbs Up\n",
    "print(\"\\U0001F44E\")  # 👎 Thumbs Down\n",
    "print(\"\\U0001F6AB\")  # 🚫 Prohibited\n",
    "print(\"\\U0001F7E2\")  # 🟢 Green Circle\n",
    "print(\"\\U0001F7E1\")  # 🟡 Yellow Circle\n",
    "print(\"\\U0001F534\")  # 🔴 Red Circle\n",
    "print(\"\\U00002757\")  # ❗ Exclamation Mark\n",
    "print(\"\\U00002753\")  # ❓ Question Mark\n",
    "print(\"\\U0001F3C1\")  # 🏁 Chequered Flag (Finish)\n"
   ]
  },
  {
   "cell_type": "code",
   "execution_count": null,
   "id": "e6cbed39",
   "metadata": {},
   "outputs": [],
   "source": []
  }
 ],
 "metadata": {
  "kernelspec": {
   "display_name": "Python 3",
   "language": "python",
   "name": "python3"
  },
  "language_info": {
   "codemirror_mode": {
    "name": "ipython",
    "version": 3
   },
   "file_extension": ".py",
   "mimetype": "text/x-python",
   "name": "python",
   "nbconvert_exporter": "python",
   "pygments_lexer": "ipython3",
   "version": "3.10.18"
  }
 },
 "nbformat": 4,
 "nbformat_minor": 5
}
