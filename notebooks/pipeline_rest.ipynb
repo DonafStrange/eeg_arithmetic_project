{
 "cells": [
  {
   "cell_type": "code",
   "execution_count": null,
   "id": "361363af",
   "metadata": {},
   "outputs": [],
   "source": [
    "import pickle\n",
    "import mne\n",
    "\n",
    "# Load EEG data for participant '34'\n",
    "with open('/home/donaf-strange/LAB_WORK/eeg_arithmetic_project/data/all_rest_eeg_by_participant.pkl', 'rb') as f:\n",
    "    rest_eeg_dict = pickle.load(f)\n",
    "\n",
    "raw = rest_eeg_dict['34']\n",
    "\n",
    "# Set average reference\n",
    "raw.set_eeg_reference('average', verbose=False)\n",
    "\n",
    "# Bandpass filter: typically 1–40 Hz for state dynamics\n",
    "raw.filter(1., 40., fir_design='firwin')\n",
    "\n",
    "# OPTIONAL: plot to visually inspect\n",
    "raw.plot(n_channels=20, scalings='auto', title='Participant 34 - Resting EEG')\n"
   ]
  }
 ],
 "metadata": {
  "language_info": {
   "name": "python"
  }
 },
 "nbformat": 4,
 "nbformat_minor": 5
}
